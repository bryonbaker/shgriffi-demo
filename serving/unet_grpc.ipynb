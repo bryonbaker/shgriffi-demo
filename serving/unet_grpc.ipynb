{
 "cells": [
  {
   "cell_type": "markdown",
   "id": "f73046ff",
   "metadata": {},
   "source": [
    "# GRPC Inference"
   ]
  },
  {
   "cell_type": "markdown",
   "id": "443e7e73-24cb-4f03-9491-a6edcc24f0cc",
   "metadata": {
    "tags": []
   },
   "source": [
    "### Setup"
   ]
  },
  {
   "cell_type": "code",
   "execution_count": 1,
   "id": "55c80d0a-2e7f-4bfb-a004-db1ada9969f4",
   "metadata": {},
   "outputs": [
    {
     "name": "stdout",
     "output_type": "stream",
     "text": [
      "grpcio                          1.56.0\n",
      "grpcio-tools                    1.33.2\n",
      "protobuf                        3.20.3\n",
      "\n",
      "\u001b[1m[\u001b[0m\u001b[34;49mnotice\u001b[0m\u001b[1;39;49m]\u001b[0m\u001b[39;49m A new release of pip available: \u001b[0m\u001b[31;49m22.2.2\u001b[0m\u001b[39;49m -> \u001b[0m\u001b[32;49m23.2.1\u001b[0m\n",
      "\u001b[1m[\u001b[0m\u001b[34;49mnotice\u001b[0m\u001b[1;39;49m]\u001b[0m\u001b[39;49m To update, run: \u001b[0m\u001b[32;49mpip install --upgrade pip\u001b[0m\n"
     ]
    }
   ],
   "source": [
    "!pip list | grep -e grpcio -e protobuf"
   ]
  },
  {
   "cell_type": "code",
   "execution_count": 2,
   "id": "f3a1896a-efc5-447f-b2a3-365790936aba",
   "metadata": {},
   "outputs": [
    {
     "name": "stdout",
     "output_type": "stream",
     "text": [
      "Requirement already satisfied: grpcio==1.56.0 in /opt/app-root/lib/python3.9/site-packages (1.56.0)\n",
      "Requirement already satisfied: grpcio-tools==1.33.2 in /opt/app-root/lib/python3.9/site-packages (1.33.2)\n",
      "Requirement already satisfied: protobuf==3.20.3 in /opt/app-root/lib/python3.9/site-packages (3.20.3)\n",
      "\n",
      "\u001b[1m[\u001b[0m\u001b[34;49mnotice\u001b[0m\u001b[1;39;49m]\u001b[0m\u001b[39;49m A new release of pip available: \u001b[0m\u001b[31;49m22.2.2\u001b[0m\u001b[39;49m -> \u001b[0m\u001b[32;49m23.2.1\u001b[0m\n",
      "\u001b[1m[\u001b[0m\u001b[34;49mnotice\u001b[0m\u001b[1;39;49m]\u001b[0m\u001b[39;49m To update, run: \u001b[0m\u001b[32;49mpip install --upgrade pip\u001b[0m\n"
     ]
    }
   ],
   "source": [
    "!pip install grpcio==1.56.0 grpcio-tools==1.33.2 protobuf==3.20.3"
   ]
  },
  {
   "cell_type": "code",
   "execution_count": 3,
   "id": "46b986bc-07cb-430c-b16a-56d4cc4f675f",
   "metadata": {},
   "outputs": [
    {
     "name": "stdout",
     "output_type": "stream",
     "text": [
      "grpcio                          1.56.0\n",
      "grpcio-tools                    1.33.2\n",
      "protobuf                        3.20.3\n",
      "\n",
      "\u001b[1m[\u001b[0m\u001b[34;49mnotice\u001b[0m\u001b[1;39;49m]\u001b[0m\u001b[39;49m A new release of pip available: \u001b[0m\u001b[31;49m22.2.2\u001b[0m\u001b[39;49m -> \u001b[0m\u001b[32;49m23.2.1\u001b[0m\n",
      "\u001b[1m[\u001b[0m\u001b[34;49mnotice\u001b[0m\u001b[1;39;49m]\u001b[0m\u001b[39;49m To update, run: \u001b[0m\u001b[32;49mpip install --upgrade pip\u001b[0m\n"
     ]
    }
   ],
   "source": [
    "!pip list | grep -e grpcio -e protobuf"
   ]
  },
  {
   "cell_type": "code",
   "execution_count": 4,
   "id": "1d17b252-7827-4cae-adb0-f98c9d80bcd7",
   "metadata": {},
   "outputs": [],
   "source": [
    "grpc_host = 'modelmesh-serving'\n",
    "grpc_port = 8033\n",
    "\n",
    "textencoder_model_name = 'textencoder'\n",
    "unet_model_name = 'unet'\n",
    "vaeencoder_model_name = 'vaeencoder'\n",
    "vaedecoder_model_name = 'vaedecoder'"
   ]
  },
  {
   "cell_type": "markdown",
   "id": "4269da9e-5683-4531-9a3f-a1cdad42e3af",
   "metadata": {},
   "source": [
    "### Inspecting the gRPC Endpoint\n",
    "\n",
    "Let's check out the gRPC endpoint's model metadata."
   ]
  },
  {
   "cell_type": "code",
   "execution_count": 5,
   "id": "545aa5f4-356f-4e70-b7e6-cd352a68927a",
   "metadata": {},
   "outputs": [
    {
     "name": "stdout",
     "output_type": "stream",
     "text": [
      "name: \"unet__isvc-78cd96e258\"\n",
      "versions: \"1\"\n",
      "platform: \"onnxruntime_onnx\"\n",
      "inputs {\n",
      "  name: \"encoder_hidden_states\"\n",
      "  datatype: \"FP32\"\n",
      "  shape: -1\n",
      "  shape: -1\n",
      "  shape: 1024\n",
      "}\n",
      "inputs {\n",
      "  name: \"timestep\"\n",
      "  datatype: \"INT64\"\n",
      "  shape: -1\n",
      "  shape: 1\n",
      "}\n",
      "inputs {\n",
      "  name: \"sample\"\n",
      "  datatype: \"FP32\"\n",
      "  shape: -1\n",
      "  shape: -1\n",
      "  shape: -1\n",
      "  shape: -1\n",
      "}\n",
      "outputs {\n",
      "  name: \"out_sample\"\n",
      "  datatype: \"FP32\"\n",
      "  shape: -1\n",
      "  shape: -1\n",
      "  shape: -1\n",
      "  shape: -1\n",
      "}\n",
      "\n"
     ]
    }
   ],
   "source": [
    "import grpc\n",
    "import grpc_predict_v2_pb2\n",
    "import grpc_predict_v2_pb2_grpc\n",
    "\n",
    "\n",
    "channel = grpc.insecure_channel(f\"{grpc_host}:{grpc_port}\")\n",
    "stub = grpc_predict_v2_pb2_grpc.GRPCInferenceServiceStub(channel)\n",
    "\n",
    "# request = grpc_predict_v2_pb2.ModelMetadataRequest(name=textencoder_model_name)\n",
    "# response = stub.ModelMetadata(request)\n",
    "# print(response)\n",
    "\n",
    "request = grpc_predict_v2_pb2.ModelMetadataRequest(name=unet_model_name)\n",
    "response = stub.ModelMetadata(request)\n",
    "print(response)\n",
    "\n",
    "# request = grpc_predict_v2_pb2.ModelMetadataRequest(name=vaeencoder_model_name)\n",
    "# response = stub.ModelMetadata(request)\n",
    "# print(response)\n",
    "\n",
    "# request = grpc_predict_v2_pb2.ModelMetadataRequest(name=vaedecoder_model_name)\n",
    "# response = stub.ModelMetadata(request)\n",
    "# print(response)\n"
   ]
  },
  {
   "cell_type": "markdown",
   "id": "fd5affbf-36c3-4e17-9788-5fc0904de143",
   "metadata": {},
   "source": [
    "### Request Function\n",
    "\n",
    "Builds and submits our gRPC request."
   ]
  },
  {
   "cell_type": "code",
   "execution_count": 6,
   "id": "67c1d001-ff99-414a-95d4-5729d5849298",
   "metadata": {},
   "outputs": [],
   "source": [
    "import torch\n",
    "\n",
    "def unet_grpc_request(encoder_hidden_states, timestep, sample):\n",
    "    inputs = []\n",
    "    inputs.append(grpc_predict_v2_pb2.ModelInferRequest().InferInputTensor())\n",
    "    inputs[0].name = \"encoder_hidden_states\"\n",
    "    inputs[0].datatype = \"FP32\"\n",
    "    inputs[0].shape.extend([2, 77, 1024])\n",
    "    arr = encoder_hidden_states.flatten()\n",
    "    inputs[0].contents.fp32_contents.extend(arr)\n",
    "\n",
    "    inputs.append(grpc_predict_v2_pb2.ModelInferRequest().InferInputTensor())\n",
    "    inputs[1].name = \"timestep\"\n",
    "    inputs[1].datatype = \"INT64\"\n",
    "    inputs[1].shape.extend([2, 1])\n",
    "    arr = timestep.flatten()\n",
    "    inputs[1].contents.int64_contents.extend(arr)\n",
    "\n",
    "    inputs.append(grpc_predict_v2_pb2.ModelInferRequest().InferInputTensor())\n",
    "    inputs[2].name = \"sample\"\n",
    "    inputs[2].datatype = \"FP32\"\n",
    "    inputs[2].shape.extend([2, 4, 64, 64])\n",
    "    arr = sample.flatten()\n",
    "    inputs[2].contents.fp32_contents.extend(arr)\n",
    "\n",
    "    request = grpc_predict_v2_pb2.ModelInferRequest()\n",
    "    request.model_name = unet_model_name\n",
    "    request.inputs.extend(inputs)\n",
    "\n",
    "    response = stub.ModelInfer(request)\n",
    "    out_sample = np.frombuffer(response.raw_output_contents[0], dtype=np.float32)\n",
    "    print(out_sample.dtype)\n",
    "    print(out_sample.shape)\n",
    "    print(out_sample)\n",
    "    return torch.tensor(out_sample)    \n",
    "    # return torch.tensor(out_sample.reshape([-1, 4, 64, 64]))"
   ]
  },
  {
   "cell_type": "markdown",
   "id": "911b1015-28b0-4d60-bc17-7b30326b97bc",
   "metadata": {},
   "source": [
    "### Run the Request"
   ]
  },
  {
   "cell_type": "code",
   "execution_count": 7,
   "id": "12947866-e0f5-4c72-ba9a-04229b1af990",
   "metadata": {},
   "outputs": [
    {
     "name": "stdout",
     "output_type": "stream",
     "text": [
      "float32\n",
      "(2, 4, 64, 64)\n",
      "[[[[-0.8897597  -0.81190264 -0.5321495  ... -0.8871557   1.2300298\n",
      "    -1.2197485 ]\n",
      "   [-0.4000458   0.21738213  0.317678   ...  0.13193801  0.8565978\n",
      "     0.9220387 ]\n",
      "   [-0.67728937 -0.48643437 -0.70665723 ... -0.6259676  -0.61032146\n",
      "    -0.50187075]\n",
      "   ...\n",
      "   [-0.8353103  -0.45297387 -1.6257945  ... -1.2519588  -0.49927092\n",
      "    -0.3828153 ]\n",
      "   [-0.31360683 -0.6438074  -1.1611359  ... -0.455653   -0.5686751\n",
      "    -0.3175882 ]\n",
      "   [-0.61284566 -1.1918628  -1.1147459  ... -1.4896585  -1.164741\n",
      "    -0.70370245]]\n",
      "\n",
      "  [[ 0.09438869 -0.29805583 -0.48049027 ... -0.07705937 -0.1229637\n",
      "     0.6576069 ]\n",
      "   [-0.654859   -0.77021813 -0.82511634 ...  0.24248192  0.32008582\n",
      "     0.985103  ]\n",
      "   [-0.0546063  -0.34833267  0.24034634 ... -0.4311598  -0.9319254\n",
      "    -0.30207822]\n",
      "   ...\n",
      "   [-1.2818838  -0.08484254 -0.50462127 ... -0.26499438 -0.88069105\n",
      "    -0.24047701]\n",
      "   [-1.4174095  -0.15417747 -0.02103706 ... -0.44481596 -0.33733866\n",
      "    -0.2445958 ]\n",
      "   [-0.8281576  -0.06538612 -0.603378   ... -0.81452245 -0.73596716\n",
      "    -0.23735513]]\n",
      "\n",
      "  [[ 0.5379601   0.21113364  0.8052657  ...  0.73414713  0.67322487\n",
      "     0.7631942 ]\n",
      "   [ 0.69609916  1.1105886   0.9925846  ... -0.71954703  0.15701963\n",
      "     0.43205288]\n",
      "   [ 0.29292297  0.16515376  0.27069697 ...  0.45686343  0.56424844\n",
      "     1.0188304 ]\n",
      "   ...\n",
      "   [ 0.3151904   0.619849    0.44932434 ...  0.08930186  0.26724523\n",
      "    -0.19083379]\n",
      "   [ 0.9252248   0.6467309   0.06851742 ... -0.25832117  1.34604\n",
      "    -0.14673764]\n",
      "   [ 0.7616664   0.2888935   0.9322233  ...  1.1440943   0.30527493\n",
      "     0.22594593]]\n",
      "\n",
      "  [[-0.15904467 -0.2967978  -0.14879817 ... -0.837663    0.1586914\n",
      "    -0.89521575]\n",
      "   [ 0.08061571  0.7883321   0.5728181  ... -0.87495756  0.3469706\n",
      "     0.32262024]\n",
      "   [-0.03504686 -0.09146548  0.04964564 ... -0.5342093  -0.5964022\n",
      "    -0.257071  ]\n",
      "   ...\n",
      "   [ 0.59471166  1.1592377  -0.05572851 ...  0.2948303   0.05756211\n",
      "     0.56068456]\n",
      "   [ 1.2522271   1.1858622   0.6299846  ...  0.568232    0.7943411\n",
      "     0.48571235]\n",
      "   [ 0.8779344   1.1044054   0.569056   ...  0.48136902 -0.02939141\n",
      "     0.4761834 ]]]\n",
      "\n",
      "\n",
      " [[[-0.8897597  -0.81190264 -0.5321495  ... -0.8871557   1.2300298\n",
      "    -1.2197485 ]\n",
      "   [-0.4000458   0.21738213  0.317678   ...  0.13193801  0.8565978\n",
      "     0.9220387 ]\n",
      "   [-0.67728937 -0.48643437 -0.70665723 ... -0.6259676  -0.61032146\n",
      "    -0.50187075]\n",
      "   ...\n",
      "   [-0.8353103  -0.45297387 -1.6257945  ... -1.2519588  -0.49927092\n",
      "    -0.3828153 ]\n",
      "   [-0.31360683 -0.6438074  -1.1611359  ... -0.455653   -0.5686751\n",
      "    -0.3175882 ]\n",
      "   [-0.61284566 -1.1918628  -1.1147459  ... -1.4896585  -1.164741\n",
      "    -0.70370245]]\n",
      "\n",
      "  [[ 0.09438869 -0.29805583 -0.48049027 ... -0.07705937 -0.1229637\n",
      "     0.6576069 ]\n",
      "   [-0.654859   -0.77021813 -0.82511634 ...  0.24248192  0.32008582\n",
      "     0.985103  ]\n",
      "   [-0.0546063  -0.34833267  0.24034634 ... -0.4311598  -0.9319254\n",
      "    -0.30207822]\n",
      "   ...\n",
      "   [-1.2818838  -0.08484254 -0.50462127 ... -0.26499438 -0.88069105\n",
      "    -0.24047701]\n",
      "   [-1.4174095  -0.15417747 -0.02103706 ... -0.44481596 -0.33733866\n",
      "    -0.2445958 ]\n",
      "   [-0.8281576  -0.06538612 -0.603378   ... -0.81452245 -0.73596716\n",
      "    -0.23735513]]\n",
      "\n",
      "  [[ 0.5379601   0.21113364  0.8052657  ...  0.73414713  0.67322487\n",
      "     0.7631942 ]\n",
      "   [ 0.69609916  1.1105886   0.9925846  ... -0.71954703  0.15701963\n",
      "     0.43205288]\n",
      "   [ 0.29292297  0.16515376  0.27069697 ...  0.45686343  0.56424844\n",
      "     1.0188304 ]\n",
      "   ...\n",
      "   [ 0.3151904   0.619849    0.44932434 ...  0.08930186  0.26724523\n",
      "    -0.19083379]\n",
      "   [ 0.9252248   0.6467309   0.06851742 ... -0.25832117  1.34604\n",
      "    -0.14673764]\n",
      "   [ 0.7616664   0.2888935   0.9322233  ...  1.1440943   0.30527493\n",
      "     0.22594593]]\n",
      "\n",
      "  [[-0.15904467 -0.2967978  -0.14879817 ... -0.837663    0.1586914\n",
      "    -0.89521575]\n",
      "   [ 0.08061571  0.7883321   0.5728181  ... -0.87495756  0.3469706\n",
      "     0.32262024]\n",
      "   [-0.03504686 -0.09146548  0.04964564 ... -0.5342093  -0.5964022\n",
      "    -0.257071  ]\n",
      "   ...\n",
      "   [ 0.59471166  1.1592377  -0.05572851 ...  0.2948303   0.05756211\n",
      "     0.56068456]\n",
      "   [ 1.2522271   1.1858622   0.6299846  ...  0.568232    0.7943411\n",
      "     0.48571235]\n",
      "   [ 0.8779344   1.1044054   0.569056   ...  0.48136902 -0.02939141\n",
      "     0.4761834 ]]]]\n",
      "float32\n",
      "(2, 77, 1024)\n",
      "[[[-3.1342530e-01 -4.4756961e-01 -8.2412548e-03 ...  2.5420722e-01\n",
      "   -3.2431755e-02 -2.9602963e-01]\n",
      "  [ 1.4113623e+00  7.5768777e-03 -4.2884472e-01 ...  1.0364875e+00\n",
      "   -6.7340916e-01  1.5005944e+00]\n",
      "  [ 1.8676329e+00 -1.0887992e+00 -1.0655832e+00 ...  2.0318623e+00\n",
      "   -1.1395700e+00 -1.8951868e-01]\n",
      "  ...\n",
      "  [ 6.0628923e-03 -1.4989983e+00 -3.9075467e-01 ... -1.7927067e-01\n",
      "   -3.2249886e-01 -1.5240340e-02]\n",
      "  [ 2.7659766e-02 -1.5532316e+00 -4.1506541e-01 ... -4.4162264e-01\n",
      "   -3.9632168e-01  1.9090423e-01]\n",
      "  [-7.0735693e-02 -2.6132317e+00 -1.0513480e+00 ...  1.0098078e-03\n",
      "   -5.0300086e-01  4.0608644e-01]]\n",
      "\n",
      " [[-3.1342530e-01 -4.4756961e-01 -8.2412548e-03 ...  2.5420722e-01\n",
      "   -3.2431755e-02 -2.9602963e-01]\n",
      "  [ 1.9959003e-01 -1.6935655e+00 -8.9464766e-01 ...  4.6581578e-01\n",
      "   -9.5573358e-02 -2.1483688e+00]\n",
      "  [ 1.0236602e+00 -7.3429120e-01 -2.5375519e+00 ...  8.9439642e-01\n",
      "   -5.8788855e-02 -1.0714635e+00]\n",
      "  ...\n",
      "  [ 8.6605263e-01 -1.5190846e+00  1.6753902e-01 ... -1.3960169e-01\n",
      "   -1.1769304e-01  4.5016614e-01]\n",
      "  [ 8.8811195e-01 -1.5138022e+00  1.4623259e-01 ... -4.1371936e-01\n",
      "   -1.8021357e-01  5.4321146e-01]\n",
      "  [ 5.4441684e-01 -2.2349224e+00 -4.3861672e-01 ... -2.3516901e-01\n",
      "    2.6457497e-01  9.6669835e-01]]]\n",
      "int64\n",
      "()\n",
      "1\n"
     ]
    }
   ],
   "source": [
    "import numpy as np\n",
    "import torch\n",
    "\n",
    "from IPython.display import Image\n",
    "\n",
    "latent_model_input = np.load(\"latent_model_input.npy\")\n",
    "print(latent_model_input.dtype)\n",
    "print(latent_model_input.shape)\n",
    "print(latent_model_input)\n",
    "\n",
    "encoder_hidden_states = np.load(\"encoder_hidden_states.npy\")\n",
    "print(encoder_hidden_states.dtype)\n",
    "print(encoder_hidden_states.shape)\n",
    "print(encoder_hidden_states)\n",
    "\n",
    "timestep = np.load(\"t.npy\")\n",
    "print(timestep.dtype)\n",
    "print(timestep.shape)\n",
    "print(timestep)"
   ]
  },
  {
   "cell_type": "code",
   "execution_count": 8,
   "id": "002cd999-408f-478f-878a-d0ffea687583",
   "metadata": {},
   "outputs": [
    {
     "name": "stdout",
     "output_type": "stream",
     "text": [
      "float32\n",
      "(32768,)\n",
      "[ 0.01648445 -0.3543526  -0.0860291  ...  0.2566524  -0.10423775\n",
      " -0.2969734 ]\n"
     ]
    }
   ],
   "source": [
    "import torch\n",
    "import numpy as np\n",
    "\n",
    "\n",
    "out_sample = unet_grpc_request(encoder_hidden_states, torch.tensor([1, 1]), latent_model_input)"
   ]
  },
  {
   "cell_type": "code",
   "execution_count": 9,
   "id": "129a81ea-f3aa-4ecd-9a12-3f7cebd4816b",
   "metadata": {},
   "outputs": [
    {
     "name": "stdout",
     "output_type": "stream",
     "text": [
      "torch.float32\n",
      "torch.Size([32768])\n",
      "tensor([ 0.0165, -0.3544, -0.0860,  ...,  0.2567, -0.1042, -0.2970])\n"
     ]
    }
   ],
   "source": [
    "print(out_sample.dtype)\n",
    "print(out_sample.shape)\n",
    "print(out_sample)"
   ]
  },
  {
   "cell_type": "code",
   "execution_count": null,
   "id": "34b93f0c-0086-4b37-8816-a684c17c991a",
   "metadata": {},
   "outputs": [],
   "source": []
  }
 ],
 "metadata": {
  "kernelspec": {
   "display_name": "Python 3.9",
   "language": "python",
   "name": "python3"
  },
  "language_info": {
   "codemirror_mode": {
    "name": "ipython",
    "version": 3
   },
   "file_extension": ".py",
   "mimetype": "text/x-python",
   "name": "python",
   "nbconvert_exporter": "python",
   "pygments_lexer": "ipython3",
   "version": "3.9.16"
  }
 },
 "nbformat": 4,
 "nbformat_minor": 5
}
